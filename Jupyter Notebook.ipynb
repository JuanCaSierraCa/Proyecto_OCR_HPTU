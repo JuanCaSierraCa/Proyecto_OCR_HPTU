{
 "cells": [
  {
   "cell_type": "markdown",
   "id": "30e42455",
   "metadata": {},
   "source": [
    "# Proyecto OCR - Hostipital Pablo Tobón Uribe\n",
    "\n",
    "### Integrantes: Juan Carlos Sierra Castro"
   ]
  },
  {
   "cell_type": "code",
   "execution_count": null,
   "id": "7acc8f85",
   "metadata": {},
   "outputs": [],
   "source": [
    "import tabula"
   ]
  },
  {
   "cell_type": "code",
   "execution_count": 16,
   "id": "e0c5ddfb",
   "metadata": {},
   "outputs": [
    {
     "name": "stdout",
     "output_type": "stream",
     "text": [
      "                          Antibiotic MIC value mcg/ml Interpretation  \\\n",
      "0                                              (mg/L)            NaN   \n",
      "1                              naturally Amikacin >32              R   \n",
      "2                         Amoxicillin/K Clavulanate 2              I   \n",
      "3                            Ampicillin/Sulbactam >16              R   \n",
      "4                                     Ampicillin  >16              R   \n",
      "5                                       Cefazolin >16              R   \n",
      "6                                        Cefepime >16              R   \n",
      "7                                      Cefotaxime >32              R   \n",
      "8                                     Ceftazidime >16              R   \n",
      "9                                     Ceftriaxone >32              R   \n",
      "10                                     Cefuroxime >16              R   \n",
      "11                                    Cephalothin >16              R   \n",
      "12                                    Gentamicin   >8              R   \n",
      "13                                      Imipenem   >8              R   \n",
      "14                        Piperacillin/Tazobactam >64              R   \n",
      "15  Piperacillin There was no history and no evide...            R R   \n",
      "\n",
      "                                           Unnamed: 2  \n",
      "0    concentration (MIC) was carried out on MicroScan  \n",
      "1                Walk Away 96 S1 USA.7 The strain was  \n",
      "2   resistant to all classes of antibiotics and in...  \n",
      "3   susceptibility to Amoxicillin/K Clavulanate. T...  \n",
      "4                                                 NaN  \n",
      "5   values and interpretation of E. americana are ...  \n",
      "6   Table 1. Deoxyribonucleic acid sequence analys...  \n",
      "7   not carried out as the facility was not availa...  \n",
      "8                                                 NaN  \n",
      "9   mechanism of resistance could not be explained...  \n",
      "10  microbiological samples of the patient like bl...  \n",
      "11  and stool were found negative for E. americana...  \n",
      "12                                                NaN  \n",
      "13  identified organism was the pathogen of pneumo...  \n",
      "14  clinical symptoms, signs and radiological exam...  \n",
      "15                                                NaN  \n"
     ]
    }
   ],
   "source": [
    "pdf_path=\"AntibiogramMIC.pdf\"\n",
    "\n",
    "df = tabula.read_pdf(pdf_path, pages=3, multiple_tables=False)\n",
    "\n",
    "print(df[0])"
   ]
  },
  {
   "cell_type": "code",
   "execution_count": 8,
   "id": "852c5046",
   "metadata": {},
   "outputs": [
    {
     "ename": "SyntaxError",
     "evalue": "unmatched ']' (1954008185.py, line 3)",
     "output_type": "error",
     "traceback": [
      "\u001b[1;36m  Cell \u001b[1;32mIn[8], line 3\u001b[1;36m\u001b[0m\n\u001b[1;33m    selected_columns = df[[0, 1, 2]]]\u001b[0m\n\u001b[1;37m                                    ^\u001b[0m\n\u001b[1;31mSyntaxError\u001b[0m\u001b[1;31m:\u001b[0m unmatched ']'\n"
     ]
    }
   ],
   "source": [
    "df_1 = df[0]"
   ]
  },
  {
   "cell_type": "code",
   "execution_count": null,
   "id": "45f43598",
   "metadata": {},
   "outputs": [],
   "source": []
  }
 ],
 "metadata": {
  "kernelspec": {
   "display_name": "myenv",
   "language": "python",
   "name": "myenv"
  },
  "language_info": {
   "codemirror_mode": {
    "name": "ipython",
    "version": 3
   },
   "file_extension": ".py",
   "mimetype": "text/x-python",
   "name": "python",
   "nbconvert_exporter": "python",
   "pygments_lexer": "ipython3",
   "version": "3.8.18"
  }
 },
 "nbformat": 4,
 "nbformat_minor": 5
}
