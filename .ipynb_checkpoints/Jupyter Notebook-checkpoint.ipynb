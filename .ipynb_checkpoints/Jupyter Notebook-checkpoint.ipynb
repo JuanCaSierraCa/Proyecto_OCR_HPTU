{
 "cells": [
  {
   "cell_type": "markdown",
   "id": "30e42455",
   "metadata": {},
   "source": [
    "# Proyecto OCR - Hostipital Pablo Tobón Uribe\n",
    "\n",
    "### Integrantes: Juan Carlos Sierra Castro"
   ]
  },
  {
   "cell_type": "code",
   "execution_count": 18,
   "id": "7acc8f85",
   "metadata": {},
   "outputs": [],
   "source": [
    "import pandas as pd\n",
    "import tabula"
   ]
  },
  {
   "cell_type": "code",
   "execution_count": 23,
   "id": "e0c5ddfb",
   "metadata": {},
   "outputs": [
    {
     "name": "stdout",
     "output_type": "stream",
     "text": [
      "       Antibiotic MIC value mcg/ml  Unnamed: 1 Interpretation\n",
      "0                           (mg/L)         NaN            NaN\n",
      "1                     Amikacin >32         NaN              R\n",
      "2      Amoxicillin/K Clavulanate 2         NaN              I\n",
      "3         Ampicillin/Sulbactam >16         NaN              R\n",
      "4                  Ampicillin  >16         NaN              R\n",
      "5                    Cefazolin >16         NaN              R\n",
      "6                     Cefepime >16         NaN              R\n",
      "7                   Cefotaxime >32         NaN              R\n",
      "8                  Ceftazidime >16         NaN              R\n",
      "9                  Ceftriaxone >32         NaN              R\n",
      "10                  Cefuroxime >16         NaN              R\n",
      "11                 Cephalothin >16         NaN              R\n",
      "12                 Gentamicin   >8         NaN              R\n",
      "13                   Imipenem   >8         NaN              R\n",
      "14     Piperacillin/Tazobactam >64         NaN              R\n",
      "15                Piperacillin >64         NaN              R\n",
      "16               Tetracycline   >8         NaN              R\n",
      "17   Ticarcillin/K Clavulanate >64         NaN              R\n",
      "18                 Tobramycin   >8         NaN              R\n",
      "19   Trimeth/Sulfamethoxazole   >2         NaN              R\n",
      "20  R - resistant I - intermediate         NaN            NaN\n"
     ]
    }
   ],
   "source": [
    "pdf_path=\"AntibiogramMIC.pdf\"\n",
    "\n",
    "area = [50, 50, 500, 400]\n",
    "\n",
    "df = tabula.read_pdf(pdf_path, pages=3, area=[85.12, 56.65, 299.88, 292.83], stream=True, multiple_tables=False)\n",
    "\n",
    "df_1 = df[0]\n",
    "\n",
    "print(df_1)"
   ]
  },
  {
   "cell_type": "code",
   "execution_count": 24,
   "id": "852c5046",
   "metadata": {},
   "outputs": [
    {
     "name": "stdout",
     "output_type": "stream",
     "text": [
      "                     Antibiotic MIC value mcg/ml (mg/L) Interpretation\n",
      "0                          mg/L                     NaN            NaN\n",
      "1                     Amikacin                      >32              R\n",
      "2    Amoxicillin/K Clavulanate                        2              I\n",
      "3         Ampicillin/Sulbactam                      >16              R\n",
      "4                  Ampicillin                       >16              R\n",
      "5                    Cefazolin                      >16              R\n",
      "6                     Cefepime                      >16              R\n",
      "7                   Cefotaxime                      >32              R\n",
      "8                  Ceftazidime                      >16              R\n",
      "9                  Ceftriaxone                      >32              R\n",
      "10                  Cefuroxime                      >16              R\n",
      "11                 Cephalothin                      >16              R\n",
      "12                Gentamicin                         >8              R\n",
      "13                  Imipenem                         >8              R\n",
      "14     Piperacillin/Tazobactam                      >64              R\n",
      "15                Piperacillin                      >64              R\n",
      "16              Tetracycline                         >8              R\n",
      "17   Ticarcillin/K Clavulanate                      >64              R\n",
      "18                Tobramycin                         >8              R\n",
      "19  Trimeth/Sulfamethoxazole                         >2              R\n",
      "20                           R                      NaN            NaN\n"
     ]
    }
   ],
   "source": [
    "# Separa la columna 'Antibiotic MIC value mcg/ml' en las dos nuevas columnas: 'Antibiotic' y 'MIC value mcg/ml (mg/L)'\n",
    "df_1['Antibiotic'] = df_1['Antibiotic MIC value mcg/ml'].str.extract(r'([a-zA-Z\\s/]+)')\n",
    "df_1['MIC value mcg/ml (mg/L)'] = df_1['Antibiotic MIC value mcg/ml'].str.extract(r'(\\>\\d+|\\d+)')\n",
    "\n",
    "# Elimina la columna original 'Antibiotic MIC value mcg/ml' y 'Unnamed: 1'\n",
    "df_1.drop(columns=['Antibiotic MIC value mcg/ml', 'Unnamed: 1'], inplace=True)\n",
    "\n",
    "# Reordena las columnas\n",
    "df_1 = df_1[['Antibiotic', 'MIC value mcg/ml (mg/L)', 'Interpretation']]\n",
    "\n",
    "# Elimina cualquier fila con NaN en la columna 'Antibiotic'\n",
    "df_1 = df_1.dropna(subset=['Antibiotic'])\n",
    "\n",
    "print(df_1)\n"
   ]
  },
  {
   "cell_type": "code",
   "execution_count": 25,
   "id": "45f43598",
   "metadata": {},
   "outputs": [
    {
     "name": "stdout",
     "output_type": "stream",
     "text": [
      "                     Antibiotic MIC value mcg/ml (mg/L) Interpretation\n",
      "0                     Amikacin                      >32              R\n",
      "1    Amoxicillin/K Clavulanate                        2              I\n",
      "2         Ampicillin/Sulbactam                      >16              R\n",
      "3                  Ampicillin                       >16              R\n",
      "4                    Cefazolin                      >16              R\n",
      "5                     Cefepime                      >16              R\n",
      "6                   Cefotaxime                      >32              R\n",
      "7                  Ceftazidime                      >16              R\n",
      "8                  Ceftriaxone                      >32              R\n",
      "9                   Cefuroxime                      >16              R\n",
      "10                 Cephalothin                      >16              R\n",
      "11                Gentamicin                         >8              R\n",
      "12                  Imipenem                         >8              R\n",
      "13     Piperacillin/Tazobactam                      >64              R\n",
      "14                Piperacillin                      >64              R\n",
      "15              Tetracycline                         >8              R\n",
      "16   Ticarcillin/K Clavulanate                      >64              R\n",
      "17                Tobramycin                         >8              R\n",
      "18  Trimeth/Sulfamethoxazole                         >2              R\n"
     ]
    }
   ],
   "source": [
    "# Elimina las filas 0 y 20\n",
    "df_1 = df_1.drop([0, 20])\n",
    "\n",
    "# Restablece el índice para comenzar desde 0 nuevamente\n",
    "df_1.reset_index(drop=True, inplace=True)\n",
    "\n",
    "print(df_1)"
   ]
  },
  {
   "cell_type": "code",
   "execution_count": null,
   "id": "0e70be64",
   "metadata": {},
   "outputs": [],
   "source": []
  }
 ],
 "metadata": {
  "kernelspec": {
   "display_name": "myenv",
   "language": "python",
   "name": "myenv"
  },
  "language_info": {
   "codemirror_mode": {
    "name": "ipython",
    "version": 3
   },
   "file_extension": ".py",
   "mimetype": "text/x-python",
   "name": "python",
   "nbconvert_exporter": "python",
   "pygments_lexer": "ipython3",
   "version": "3.8.18"
  }
 },
 "nbformat": 4,
 "nbformat_minor": 5
}
